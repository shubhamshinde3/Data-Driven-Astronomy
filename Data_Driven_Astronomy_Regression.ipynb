{
  "nbformat": 4,
  "nbformat_minor": 0,
  "metadata": {
    "colab": {
      "name": "Data Driven Astronomy_Regression.ipynb",
      "provenance": [],
      "collapsed_sections": [],
      "mount_file_id": "13chDiV4TOu7op37ieM5s2ze7BA1tOL9N",
      "authorship_tag": "ABX9TyP20wv3lYjSmgnsrO+QWKP/",
      "include_colab_link": true
    },
    "kernelspec": {
      "name": "python3",
      "display_name": "Python 3"
    },
    "language_info": {
      "name": "python"
    }
  },
  "cells": [
    {
      "cell_type": "markdown",
      "metadata": {
        "id": "view-in-github",
        "colab_type": "text"
      },
      "source": [
        "<a href=\"https://colab.research.google.com/github/shubhamshinde3/Data-Driven-Astronomy/blob/main/Data_Driven_Astronomy_Regression.ipynb\" target=\"_parent\"><img src=\"https://colab.research.google.com/assets/colab-badge.svg\" alt=\"Open In Colab\"/></a>"
      ]
    },
    {
      "cell_type": "code",
      "source": [
        ""
      ],
      "metadata": {
        "id": "QBta7WeSsy7u"
      },
      "execution_count": null,
      "outputs": []
    },
    {
      "cell_type": "markdown",
      "source": [
        "**Regression Using Decision Tree**"
      ],
      "metadata": {
        "id": "qiQRWQ5Is3Dv"
      }
    },
    {
      "cell_type": "code",
      "execution_count": null,
      "metadata": {
        "colab": {
          "base_uri": "https://localhost:8080/"
        },
        "id": "9PvOSiOm1vEJ",
        "outputId": "88d2300d-a365-463c-a29a-057f387dcb56"
      },
      "outputs": [
        {
          "output_type": "stream",
          "name": "stdout",
          "text": [
            "[[0.31476 0.0571  0.28991 0.07192]\n",
            " [1.2002  0.82026 0.45294 0.24665]]\n",
            "[0.539301  0.1645703]\n"
          ]
        }
      ],
      "source": [
        "import numpy as np\n",
        "\n",
        "def get_features_targets(data):\n",
        "  # complete this function\n",
        "  features = np.zeros((data.shape[0], 4))\n",
        "  features[:, 0] = data['u'] - data['g']\n",
        "  features[:, 1] = data['g'] - data['r']\n",
        "  features[:, 2] = data['r'] - data['i']\n",
        "  features[:, 3] = data['i'] - data['z']\n",
        "  target = data['redshift']\n",
        "  return features, target\n",
        "  \n",
        "\n",
        "if __name__ == \"__main__\":\n",
        "  # load the data\n",
        "  data = np.load('/content/drive/MyDrive/DDA/sdss_galaxy_colors.npy')\n",
        "  features, targets = get_features_targets(data)\n",
        "    \n",
        "  # print the shape of the returned arrays\n",
        "  print(features[:2])\n",
        "  print(targets[:2])"
      ]
    },
    {
      "cell_type": "code",
      "source": [
        "from sklearn.tree import DecisionTreeRegressor\n",
        "from sklearn.model_selection import train_test_split\n",
        "\n",
        "X_train, X_test, y_train, y_test = train_test_split(features, targets, test_size=0.33, random_state=42)\n",
        "\n",
        "# initialize model\n",
        "dt_reg = DecisionTreeRegressor()\n",
        "\n",
        "# train the model\n",
        "dt_reg.fit(X_train, y_train)\n",
        "\n",
        "# make predictions using the same features\n",
        "predictions = dt_reg.predict(X_test)\n",
        "\n",
        "# print out the first 4 predicted redshifts\n",
        "print(predictions[:4])\n"
      ],
      "metadata": {
        "colab": {
          "base_uri": "https://localhost:8080/"
        },
        "id": "IU5UPGjvIlA9",
        "outputId": "9687530b-54b9-4f9e-95fb-fe794e65c626"
      },
      "execution_count": null,
      "outputs": [
        {
          "output_type": "stream",
          "name": "stdout",
          "text": [
            "[0.4487498  0.1026356  0.05441646 0.01259685]\n"
          ]
        }
      ]
    },
    {
      "cell_type": "code",
      "source": [
        "import numpy as np\n",
        "#for validation our model\n",
        "def median_diff(predicted, actual):\n",
        " med_diff = np.median(np.abs(predicted-actual))\n",
        " return med_diff\n",
        "\n",
        " # call your function to measure the accuracy of the predictions\n",
        "diff = median_diff(predictions, y_test)\n",
        "\n",
        "# print the median difference\n",
        "print(\"Median difference: {:0.3f}\".format(diff))\n"
      ],
      "metadata": {
        "colab": {
          "base_uri": "https://localhost:8080/"
        },
        "id": "VpOE8VKUGfRU",
        "outputId": "7994736f-7094-4316-ddc2-beb77a4873df"
      },
      "execution_count": null,
      "outputs": [
        {
          "output_type": "stream",
          "name": "stdout",
          "text": [
            "Median difference: 0.022\n"
          ]
        }
      ]
    },
    {
      "cell_type": "code",
      "source": [
        "from matplotlib import pyplot as plt\n",
        " # Get a colour map\n",
        "cmap = plt.get_cmap('YlOrRd')\n",
        "\n",
        "# Define our colour indexes u-g and r-i\n",
        "u_g = data['u']- data['g']\n",
        "r_i = data['r']- data['i']\n",
        "\n",
        "# Make a redshift array\n",
        "redshift = data['redshift']\n",
        "\n",
        "# Create the plot with plt.scatter and plt.colorbar\n",
        "plot = plt.scatter(u_g, r_i, s=0.5, lw=0, c=redshift, cmap=cmap)\n",
        "    \n",
        "cb = plt.colorbar(plot)\n",
        "cb.set_label('Redshift')\n",
        "    \n",
        "# Define your axis labels and plot title\n",
        "\n",
        "plt.xlabel('Colour index  u-g')\n",
        "plt.ylabel('Colour index  r-i')\n",
        "plt.title('Redshift (colour) u-g versus r-i')\n",
        "\n",
        "# Set any axis limits\n",
        "plt.xlim(-0.5, 2.5)\n",
        "plt.ylim(-0.5, 1)\n",
        "\n",
        "plt.show()"
      ],
      "metadata": {
        "colab": {
          "base_uri": "https://localhost:8080/",
          "height": 295
        },
        "id": "H6S7OLhtJz_z",
        "outputId": "e71233a2-468b-4f35-d399-8fb56d55e327"
      },
      "execution_count": null,
      "outputs": [
        {
          "output_type": "display_data",
          "data": {
            "text/plain": [
              "<Figure size 432x288 with 2 Axes>"
            ],
            "image/png": "[encoded data removed]"
          },
          "metadata": {
            "needs_background": "light"
          }
        }
      ]
    },
    {
      "cell_type": "code",
      "source": [
        "#Imporving The Decision tree "
      ],
      "metadata": {
        "id": "8ssoQKBcjKuS"
      },
      "execution_count": null,
      "outputs": []
    },
    {
      "cell_type": "code",
      "source": [
        "import pandas as pd\n",
        "import numpy as np"
      ],
      "metadata": {
        "id": "Xv1hjoC0igYY"
      },
      "execution_count": null,
      "outputs": []
    },
    {
      "cell_type": "code",
      "source": [
        "df=pd.DataFrame(data)"
      ],
      "metadata": {
        "id": "MdE6-YPGmrF8"
      },
      "execution_count": null,
      "outputs": []
    },
    {
      "cell_type": "code",
      "source": [
        "df.head()"
      ],
      "metadata": {
        "colab": {
          "base_uri": "https://localhost:8080/",
          "height": 206
        },
        "id": "IYX_9A5dm93X",
        "outputId": "9a633206-2706-4138-b62f-b1cefdfd1f53"
      },
      "execution_count": null,
      "outputs": [
        {
          "output_type": "execute_result",
          "data": {
            "text/plain": [
              "          u         g         r         i         z spec_class  redshift  \\\n",
              "0  19.84132  19.52656  19.46946  19.17955  19.10763     b'QSO'  0.539301   \n",
              "1  19.86318  18.66298  17.84272  17.38978  17.14313  b'GALAXY'  0.164570   \n",
              "2  19.97362  18.31421  17.47922  17.07440  16.76174  b'GALAXY'  0.041900   \n",
              "3  19.05989  17.49459  16.59285  16.09412  15.70741  b'GALAXY'  0.044277   \n",
              "4  19.45567  18.33084  17.67185  17.30189  17.13650  b'GALAXY'  0.041644   \n",
              "\n",
              "   redshift_err  \n",
              "0      0.000065  \n",
              "1      0.000012  \n",
              "2      0.000022  \n",
              "3      0.000011  \n",
              "4      0.000018  "
            ],
            "text/html": [
              "\n",
              "  <div id=\"df-a3f4475c-f0f9-4927-b4c7-abd0891c8159\">\n",
              "    <div class=\"colab-df-container\">\n",
              "      <div>\n",
              "<style scoped>\n",
              "    .dataframe tbody tr th:only-of-type {\n",
              "        vertical-align: middle;\n",
              "    }\n",
              "\n",
              "    .dataframe tbody tr th {\n",
              "        vertical-align: top;\n",
              "    }\n",
              "\n",
              "    .dataframe thead th {\n",
              "        text-align: right;\n",
              "    }\n",
              "</style>\n",
              "<table border=\"1\" class=\"dataframe\">\n",
              "  <thead>\n",
              "    <tr style=\"text-align: right;\">\n",
              "      <th></th>\n",
              "      <th>u</th>\n",
              "      <th>g</th>\n",
              "      <th>r</th>\n",
              "      <th>i</th>\n",
              "      <th>z</th>\n",
              "      <th>spec_class</th>\n",
              "      <th>redshift</th>\n",
              "      <th>redshift_err</th>\n",
              "    </tr>\n",
              "  </thead>\n",
              "  <tbody>\n",
              "    <tr>\n",
              "      <th>0</th>\n",
              "      <td>19.84132</td>\n",
              "      <td>19.52656</td>\n",
              "      <td>19.46946</td>\n",
              "      <td>19.17955</td>\n",
              "      <td>19.10763</td>\n",
              "      <td>b'QSO'</td>\n",
              "      <td>0.539301</td>\n",
              "      <td>0.000065</td>\n",
              "    </tr>\n",
              "    <tr>\n",
              "      <th>1</th>\n",
              "      <td>19.86318</td>\n",
              "      <td>18.66298</td>\n",
              "      <td>17.84272</td>\n",
              "      <td>17.38978</td>\n",
              "      <td>17.14313</td>\n",
              "      <td>b'GALAXY'</td>\n",
              "      <td>0.164570</td>\n",
              "      <td>0.000012</td>\n",
              "    </tr>\n",
              "    <tr>\n",
              "      <th>2</th>\n",
              "      <td>19.97362</td>\n",
              "      <td>18.31421</td>\n",
              "      <td>17.47922</td>\n",
              "      <td>17.07440</td>\n",
              "      <td>16.76174</td>\n",
              "      <td>b'GALAXY'</td>\n",
              "      <td>0.041900</td>\n",
              "      <td>0.000022</td>\n",
              "    </tr>\n",
              "    <tr>\n",
              "      <th>3</th>\n",
              "      <td>19.05989</td>\n",
              "      <td>17.49459</td>\n",
              "      <td>16.59285</td>\n",
              "      <td>16.09412</td>\n",
              "      <td>15.70741</td>\n",
              "      <td>b'GALAXY'</td>\n",
              "      <td>0.044277</td>\n",
              "      <td>0.000011</td>\n",
              "    </tr>\n",
              "    <tr>\n",
              "      <th>4</th>\n",
              "      <td>19.45567</td>\n",
              "      <td>18.33084</td>\n",
              "      <td>17.67185</td>\n",
              "      <td>17.30189</td>\n",
              "      <td>17.13650</td>\n",
              "      <td>b'GALAXY'</td>\n",
              "      <td>0.041644</td>\n",
              "      <td>0.000018</td>\n",
              "    </tr>\n",
              "  </tbody>\n",
              "</table>\n",
              "</div>\n",
              "      <button class=\"colab-df-convert\" onclick=\"convertToInteractive('df-a3f4475c-f0f9-4927-b4c7-abd0891c8159')\"\n",
              "              title=\"Convert this dataframe to an interactive table.\"\n",
              "              style=\"display:none;\">\n",
              "        \n",
              "  <svg xmlns=\"http://www.w3.org/2000/svg\" height=\"24px\"viewBox=\"0 0 24 24\"\n",
              "       width=\"24px\">\n",
              "    <path d=\"M0 0h24v24H0V0z\" fill=\"none\"/>\n",
              "    <path d=\"M18.56 5.44l.94 2.06.94-2.06 2.06-.94-2.06-.94-.94-2.06-.94 2.06-2.06.94zm-11 1L8.5 8.5l.94-2.06 2.06-.94-2.06-.94L8.5 2.5l-.94 2.06-2.06.94zm10 10l.94 2.06.94-2.06 2.06-.94-2.06-.94-.94-2.06-.94 2.06-2.06.94z\"/><path d=\"M17.41 7.96l-1.37-1.37c-.4-.4-.92-.59-1.43-.59-.52 0-1.04.2-1.43.59L10.3 9.45l-7.72 7.72c-.78.78-.78 2.05 0 2.83L4 21.41c.39.39.9.59 1.41.59.51 0 1.02-.2 1.41-.59l7.78-7.78 2.81-2.81c.8-.78.8-2.07 0-2.86zM5.41 20L4 18.59l7.72-7.72 1.47 1.35L5.41 20z\"/>\n",
              "  </svg>\n",
              "      </button>\n",
              "      \n",
              "  <style>\n",
              "    .colab-df-container {\n",
              "      display:flex;\n",
              "      flex-wrap:wrap;\n",
              "      gap: 12px;\n",
              "    }\n",
              "\n",
              "    .colab-df-convert {\n",
              "      background-color: #E8F0FE;\n",
              "      border: none;\n",
              "      border-radius: 50%;\n",
              "      cursor: pointer;\n",
              "      display: none;\n",
              "      fill: #1967D2;\n",
              "      height: 32px;\n",
              "      padding: 0 0 0 0;\n",
              "      width: 32px;\n",
              "    }\n",
              "\n",
              "    .colab-df-convert:hover {\n",
              "      background-color: #E2EBFA;\n",
              "      box-shadow: 0px 1px 2px rgba(60, 64, 67, 0.3), 0px 1px 3px 1px rgba(60, 64, 67, 0.15);\n",
              "      fill: #174EA6;\n",
              "    }\n",
              "\n",
              "    [theme=dark] .colab-df-convert {\n",
              "      background-color: #3B4455;\n",
              "      fill: #D2E3FC;\n",
              "    }\n",
              "\n",
              "    [theme=dark] .colab-df-convert:hover {\n",
              "      background-color: #434B5C;\n",
              "      box-shadow: 0px 1px 3px 1px rgba(0, 0, 0, 0.15);\n",
              "      filter: drop-shadow(0px 1px 2px rgba(0, 0, 0, 0.3));\n",
              "      fill: #FFFFFF;\n",
              "    }\n",
              "  </style>\n",
              "\n",
              "      <script>\n",
              "        const buttonEl =\n",
              "          document.querySelector('#df-a3f4475c-f0f9-4927-b4c7-abd0891c8159 button.colab-df-convert');\n",
              "        buttonEl.style.display =\n",
              "          google.colab.kernel.accessAllowed ? 'block' : 'none';\n",
              "\n",
              "        async function convertToInteractive(key) {\n",
              "          const element = document.querySelector('#df-a3f4475c-f0f9-4927-b4c7-abd0891c8159');\n",
              "          const dataTable =\n",
              "            await google.colab.kernel.invokeFunction('convertToInteractive',\n",
              "                                                     [key], {});\n",
              "          if (!dataTable) return;\n",
              "\n",
              "          const docLinkHtml = 'Like what you see? Visit the ' +\n",
              "            '<a target=\"_blank\" href=https://colab.research.google.com/notebooks/data_table.ipynb>data table notebook</a>'\n",
              "            + ' to learn more about interactive tables.';\n",
              "          element.innerHTML = '';\n",
              "          dataTable['output_type'] = 'display_data';\n",
              "          await google.colab.output.renderOutput(dataTable, element);\n",
              "          const docLink = document.createElement('div');\n",
              "          docLink.innerHTML = docLinkHtml;\n",
              "          element.appendChild(docLink);\n",
              "        }\n",
              "      </script>\n",
              "    </div>\n",
              "  </div>\n",
              "  "
            ]
          },
          "metadata": {},
          "execution_count": 15
        }
      ]
    },
    {
      "cell_type": "code",
      "source": [
        "def get_features(data):\n",
        "  # complete this function\n",
        "  features = np.zeros((data.shape[0], 4))\n",
        "  features[:, 0] = df['u'] - df['g']\n",
        "  features[:, 1] = df['g'] - df['r']\n",
        "  features[:, 2] = df['r'] - df['i']\n",
        "  features[:, 3] = df['i'] - df['z']\n",
        "  #target = data['redshift']\n",
        "  return features"
      ],
      "metadata": {
        "id": "fFvOVlt5nPJd"
      },
      "execution_count": null,
      "outputs": []
    },
    {
      "cell_type": "code",
      "source": [
        "features = get_features(df)"
      ],
      "metadata": {
        "id": "xlA_yQnFnXwA"
      },
      "execution_count": null,
      "outputs": []
    },
    {
      "cell_type": "code",
      "source": [
        "targets= df['redshift']"
      ],
      "metadata": {
        "id": "TXgBaTYpnxBR"
      },
      "execution_count": null,
      "outputs": []
    },
    {
      "cell_type": "code",
      "source": [
        "from sklearn.model_selection import train_test_split\n",
        "\n",
        "X_train, X_test, y_train, y_test = train_test_split(features, targets, test_size=0.33, random_state=42)\n"
      ],
      "metadata": {
        "id": "tw3NwjeGn4XV"
      },
      "execution_count": null,
      "outputs": []
    },
    {
      "cell_type": "code",
      "source": [
        "def median_diff(predicted, actual):\n",
        " med_diff = np.median(np.abs(predicted-actual))\n",
        " return med_diff"
      ],
      "metadata": {
        "id": "eqvlxdV2oX1F"
      },
      "execution_count": null,
      "outputs": []
    },
    {
      "cell_type": "code",
      "source": [
        "from sklearn.tree import DecisionTreeRegressor\n",
        "# initialize model\n",
        "dt_reg = DecisionTreeRegressor()\n",
        "\n",
        "# train the model\n",
        "dt_reg.fit(X_train, y_train)\n",
        "\n",
        "# make predictions using the same features\n",
        "predictions = dt_reg.predict(X_test)\n",
        "\n",
        "# print out the first 4 predicted redshifts\n",
        "print(predictions[:4])"
      ],
      "metadata": {
        "colab": {
          "base_uri": "https://localhost:8080/"
        },
        "id": "ervJcX17oGKU",
        "outputId": "fa410196-7685-4fa9-fbb2-ae285bf766d7"
      },
      "execution_count": null,
      "outputs": [
        {
          "output_type": "stream",
          "name": "stdout",
          "text": [
            "[0.482844   0.1068504  0.05441646 0.01259685]\n"
          ]
        }
      ]
    },
    {
      "cell_type": "code",
      "source": [
        "def accuracy_by_treedepth(features, targets, depths):\n",
        "  # initialise arrays or lists to store the accuracies for the below loop\n",
        "  train_acc=[]\n",
        "  test_acc=[]\n",
        "\n",
        "  # loop through depths\n",
        "  for depth in depths:\n",
        "    # initialize model with the maximum depth. \n",
        "    dtr = DecisionTreeRegressor(max_depth=depth)\n",
        "\n",
        "    # train the model using the training set\n",
        "    dtr.fit(X_train, y_train)\n",
        "\n",
        "    # get the predictions for the training set and calculate their median_diff\n",
        "    predictions = dtr.predict(X_train)\n",
        "    tr_diff = median_diff(predictions, y_train)\n",
        "    train_acc.append(tr_diff)\n",
        "    \n",
        "\n",
        "    # get the predictions for the testing set and calculate their median_diff\n",
        "    predictions = dtr.predict(X_test)\n",
        "    ts_diff = median_diff(predictions, y_test)\n",
        "    test_acc.append(ts_diff)\n",
        "\n",
        "  # return the accuracies for the training and testing sets\n",
        "  return train_acc, test_acc"
      ],
      "metadata": {
        "id": "z985KogLoKU0"
      },
      "execution_count": null,
      "outputs": []
    },
    {
      "cell_type": "code",
      "source": [
        " # Generate several depths to test\n",
        "tree_depths = [i for i in range(1, 36, 2)]\n",
        "\n",
        "train_med_diffs, test_med_diffs = accuracy_by_treedepth(features, targets, tree_depths)\n",
        "print(\"Depth with lowest median difference : {}\".format(tree_depths[test_med_diffs.index(min(test_med_diffs))]))\n",
        "\n"
      ],
      "metadata": {
        "colab": {
          "base_uri": "https://localhost:8080/"
        },
        "id": "ShGtakBqobOG",
        "outputId": "d8e24b2d-8a7c-4997-e47c-0c1d9036a4be"
      },
      "execution_count": null,
      "outputs": [
        {
          "output_type": "stream",
          "name": "stdout",
          "text": [
            "Depth with lowest median difference : 21\n"
          ]
        }
      ]
    },
    {
      "cell_type": "code",
      "source": [
        "  # Plot the results\n",
        "  from matplotlib import pyplot as plt\n",
        "  train_plot = plt.plot(tree_depths, train_med_diffs, label='Training set')\n",
        "  test_plot = plt.plot(tree_depths, test_med_diffs, label='Validation set')\n",
        "  plt.xlabel(\"Maximum Tree Depth\")\n",
        "  plt.ylabel(\"Median of Differences\")\n",
        "  plt.legend()\n",
        "  plt.show()"
      ],
      "metadata": {
        "colab": {
          "base_uri": "https://localhost:8080/",
          "height": 279
        },
        "id": "VlEFBFdmooZo",
        "outputId": "6a603641-7abf-4cd3-b5e9-fb490bc4babd"
      },
      "execution_count": null,
      "outputs": [
        {
          "output_type": "display_data",
          "data": {
            "text/plain": [
              "<Figure size 432x288 with 1 Axes>"
            ],
            "image/png": "[encoded data removed]"
          },
          "metadata": {
            "needs_background": "light"
          }
        }
      ]
    },
    {
      "cell_type": "code",
      "source": [
        "#k flod validation using numpy data not the dataframe"
      ],
      "metadata": {
        "id": "2IC8KeYzo189"
      },
      "execution_count": null,
      "outputs": []
    },
    {
      "cell_type": "code",
      "source": [
        "def cross_validate_model(dtr, features, targets, k):\n",
        "    kf = KFold(n_splits=k, shuffle=True)\n",
        "    # initialise a list to collect median_diffs for each iteration of the loop\n",
        "    # below\n",
        "    accuracy = []\n",
        "\n",
        "    for train_set, test_set in kf.split(features):\n",
        "        train_features = features[train_set]\n",
        "        test_features = features[test_set]\n",
        "        train_targets = targets[train_set]\n",
        "        test_targets = targets[test_set]\n",
        "        \n",
        "        # fit the model for the current set\n",
        "        dtr.fit(train_features, train_targets)\n",
        "        \n",
        "        # predict using the model\n",
        "        prediction = dtr.predict(test_features)\n",
        "     \n",
        "        # calculate the median_diff from predicted values and append to\n",
        "        ra = (median_diff(prediction, test_targets))\n",
        "        accuracy.append(ra)\n",
        " \n",
        "    # return the list with your median difference values\n",
        "    return accuracy\n",
        "  "
      ],
      "metadata": {
        "id": "AfgmOvxlruWb"
      },
      "execution_count": null,
      "outputs": []
    },
    {
      "cell_type": "code",
      "source": [
        "# initialize model with a maximum depth of 19\n",
        "from sklearn.model_selection import KFold\n",
        "dtr = DecisionTreeRegressor(max_depth=19)\n",
        "\n",
        "  # call your cross validation function\n",
        "diff = cross_validate_model(dtr, features, targets, 10)\n",
        "\n",
        "  # Print the values\n",
        "print('Differences: {}'.format(', '.join(['{:.3f}'.format(val) for val in diffs])))\n",
        "print('Mean difference: {:.3f}'.format(np.mean(diffs)))\n"
      ],
      "metadata": {
        "colab": {
          "base_uri": "https://localhost:8080/"
        },
        "id": "lLaozv5nr_e-",
        "outputId": "0ceeda21-796d-4e2e-9fb7-f258b056b7be"
      },
      "execution_count": null,
      "outputs": [
        {
          "output_type": "stream",
          "name": "stdout",
          "text": [
            "Differences: 0.017, 0.017, 0.018, 0.017, 0.017, 0.017, 0.018, 0.017, 0.017, 0.017\n",
            "Mean difference: 0.017\n"
          ]
        }
      ]
    },
    {
      "cell_type": "code",
      "source": [
        "# function to calculate all the median diff\n",
        "def cross_validate_predictions(dt_reg, features, targets, k):\n",
        "  kf = KFold(n_splits=k, shuffle=True)\n",
        "\n",
        "  # declare an array for predicted redshifts from each iteration\n",
        "  all_predictions = np.zeros_like(targets)\n",
        "\n",
        "  for train_indices, test_indices in kf.split(features):\n",
        "    # split the data into training and testing\n",
        "    train_features = features[train_indices]\n",
        "    test_features = features[test_indices]\n",
        "    train_targets = targets[train_indices]\n",
        "    # fit the model for the current set\n",
        "    dt_reg.fit(train_features, train_targets)\n",
        "        \n",
        "    # predict using the model\n",
        "    predictions = dt_reg.predict(test_features)\n",
        "        \n",
        "    # put the predicted values in the all_predictions array defined above\n",
        "    all_predictions[test_indices] = predictions\n",
        "\n",
        "  # return the predictions\n",
        "  return all_predictions    \n"
      ],
      "metadata": {
        "id": "r8h0CkQYsLbU"
      },
      "execution_count": null,
      "outputs": []
    },
    {
      "cell_type": "code",
      "source": [
        "\n",
        "  # initialize model\n",
        "dtr = DecisionTreeRegressor(max_depth=19)\n",
        "\n",
        "  # call your cross validation function\n",
        "predictions = cross_validate_predictions(dtr, features, targets, 10)\n",
        "  # calculate and print the rmsd as a sanity check\n",
        "diffs = median_diff(predictions, targets)\n",
        "print('Median difference: {:.3f}'.format(diffs))"
      ],
      "metadata": {
        "colab": {
          "base_uri": "https://localhost:8080/"
        },
        "id": "YskPZx1jtgMQ",
        "outputId": "f173534c-6309-46df-beca-3a4894680e91"
      },
      "execution_count": null,
      "outputs": [
        {
          "output_type": "stream",
          "name": "stdout",
          "text": [
            "Median difference: 0.017\n"
          ]
        }
      ]
    },
    {
      "cell_type": "code",
      "source": [
        " # plot the results to see how well our model looks\n",
        "plt.scatter(targets, predictions, s=0.4)\n",
        "plt.xlim((0, targets.max()))\n",
        "plt.ylim((0, predictions.max()))\n",
        "plt.xlabel('Measured Redshift')\n",
        "plt.ylabel('Predicted Redshift')\n",
        "plt.show()"
      ],
      "metadata": {
        "colab": {
          "base_uri": "https://localhost:8080/",
          "height": 279
        },
        "id": "qqMEzS3Ytc9m",
        "outputId": "bb5b9886-7d96-411a-e2d1-00e280d175fe"
      },
      "execution_count": null,
      "outputs": [
        {
          "output_type": "display_data",
          "data": {
            "text/plain": [
              "<Figure size 432x288 with 1 Axes>"
            ],
            "image/png": "[encoded data removed]"
          },
          "metadata": {
            "needs_background": "light"
          }
        }
      ]
    },
    {
      "cell_type": "code",
      "source": [
        "#"
      ],
      "metadata": {
        "id": "os7SpvOSu8aU"
      },
      "execution_count": null,
      "outputs": []
    },
    {
      "cell_type": "code",
      "source": [
        "def split_galaxies_qsos(data):\n",
        "    # split the data into galaxies and qsos arrays\n",
        "    galaxies = data[data['spec_class'] == b'GALAXY']\n",
        "    qsos = data[data['spec_class'] == b'QSO']\n",
        "\n",
        "    # return the separated galaxies and qsos arrays\n",
        "    return galaxies, qsos\n",
        "\n",
        "\n",
        "def cross_validate_median_diff(data):\n",
        "    features, targets = get_features_targets(data)\n",
        "    dtr = DecisionTreeRegressor(max_depth=19)\n",
        "    return np.mean(cross_validate_model(dtr, features, targets, 10))\n",
        "\n",
        "    # Split the data set into galaxies and QSOs\n",
        "galaxies, qsos = split_galaxies_qsos(data)\n",
        "\n",
        "    # Cross validate the model and get the cross-validated median difference\n",
        "    # The cross_validated_med_diff function is in \"written_functions\"\n",
        "galaxy_med_diff = cross_validate_median_diff(galaxies)\n",
        "qso_med_diff = cross_validate_median_diff(qsos)\n",
        "\n",
        "    # Print the results\n",
        "print(\"Median difference for Galaxies: {:.3f}\".format(galaxy_med_diff))\n",
        "print(\"Median difference for QSOs: {:.3f}\".format(qso_med_diff))"
      ],
      "metadata": {
        "colab": {
          "base_uri": "https://localhost:8080/"
        },
        "id": "v8130QAIvinb",
        "outputId": "a20cf674-28d7-4ff8-bb09-6eb6094c9b49"
      },
      "execution_count": null,
      "outputs": [
        {
          "output_type": "stream",
          "name": "stdout",
          "text": [
            "Median difference for Galaxies: 0.017\n",
            "Median difference for QSOs: 0.017\n"
          ]
        }
      ]
    },
    {
      "cell_type": "code",
      "source": [
        ""
      ],
      "metadata": {
        "id": "rilrejTgwqQ9"
      },
      "execution_count": null,
      "outputs": []
    }
  ]
}